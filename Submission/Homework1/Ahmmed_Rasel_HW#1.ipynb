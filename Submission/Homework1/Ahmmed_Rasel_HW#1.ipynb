{
 "cells": [
  {
   "cell_type": "markdown",
   "id": "237949cb",
   "metadata": {},
   "source": [
    "## HW1\n",
    "Questions from Juliaacademy\n",
    "\n",
    "One extra question\n",
    "\n",
    "Getting started\n",
    "\n",
    "1.1\n",
    "Look up docs for the convert function."
   ]
  },
  {
   "cell_type": "code",
   "execution_count": 1,
   "id": "b0783f2f",
   "metadata": {},
   "outputs": [
    {
     "name": "stdout",
     "output_type": "stream",
     "text": [
      "search: \u001b[0m\u001b[1mc\u001b[22m\u001b[0m\u001b[1mo\u001b[22m\u001b[0m\u001b[1mn\u001b[22m\u001b[0m\u001b[1mv\u001b[22m\u001b[0m\u001b[1me\u001b[22m\u001b[0m\u001b[1mr\u001b[22m\u001b[0m\u001b[1mt\u001b[22m \u001b[0m\u001b[1mC\u001b[22m\u001b[0m\u001b[1mo\u001b[22m\u001b[0m\u001b[1mn\u001b[22mcurrency\u001b[0m\u001b[1mV\u001b[22miolation\u001b[0m\u001b[1mE\u001b[22m\u001b[0m\u001b[1mr\u001b[22mror \u001b[0m\u001b[1mc\u001b[22m\u001b[0m\u001b[1mo\u001b[22mde_\u001b[0m\u001b[1mn\u001b[22mati\u001b[0m\u001b[1mv\u001b[22m\u001b[0m\u001b[1me\u001b[22m @\u001b[0m\u001b[1mc\u001b[22m\u001b[0m\u001b[1mo\u001b[22mde_\u001b[0m\u001b[1mn\u001b[22mati\u001b[0m\u001b[1mv\u001b[22m\u001b[0m\u001b[1me\u001b[22m\n",
      "\n"
     ]
    },
    {
     "data": {
      "text/latex": [
       "\\begin{verbatim}\n",
       "convert(T, x)\n",
       "\\end{verbatim}\n",
       "Convert \\texttt{x} to a value of type \\texttt{T}.\n",
       "\n",
       "If \\texttt{T} is an \\href{@ref}{\\texttt{Integer}} type, an \\href{@ref}{\\texttt{InexactError}} will be raised if \\texttt{x} is not representable by \\texttt{T}, for example if \\texttt{x} is not integer-valued, or is outside the range supported by \\texttt{T}.\n",
       "\n",
       "\\section{Examples}\n",
       "\\begin{verbatim}\n",
       "julia> convert(Int, 3.0)\n",
       "3\n",
       "\n",
       "julia> convert(Int, 3.5)\n",
       "ERROR: InexactError: Int64(3.5)\n",
       "Stacktrace:\n",
       "[...]\n",
       "\\end{verbatim}\n",
       "If \\texttt{T} is a \\href{@ref}{\\texttt{AbstractFloat}} type, then it will return the closest value to \\texttt{x} representable by \\texttt{T}.\n",
       "\n",
       "\\begin{verbatim}\n",
       "julia> x = 1/3\n",
       "0.3333333333333333\n",
       "\n",
       "julia> convert(Float32, x)\n",
       "0.33333334f0\n",
       "\n",
       "julia> convert(BigFloat, x)\n",
       "0.333333333333333314829616256247390992939472198486328125\n",
       "\\end{verbatim}\n",
       "If \\texttt{T} is a collection type and \\texttt{x} a collection, the result of \\texttt{convert(T, x)} may alias all or part of \\texttt{x}.\n",
       "\n",
       "\\begin{verbatim}\n",
       "julia> x = Int[1, 2, 3];\n",
       "\n",
       "julia> y = convert(Vector{Int}, x);\n",
       "\n",
       "julia> y === x\n",
       "true\n",
       "\\end{verbatim}\n",
       "See also: \\href{@ref}{\\texttt{round}}, \\href{@ref}{\\texttt{trunc}}, \\href{@ref}{\\texttt{oftype}}, \\href{@ref}{\\texttt{reinterpret}}.\n",
       "\n"
      ],
      "text/markdown": [
       "```\n",
       "convert(T, x)\n",
       "```\n",
       "\n",
       "Convert `x` to a value of type `T`.\n",
       "\n",
       "If `T` is an [`Integer`](@ref) type, an [`InexactError`](@ref) will be raised if `x` is not representable by `T`, for example if `x` is not integer-valued, or is outside the range supported by `T`.\n",
       "\n",
       "# Examples\n",
       "\n",
       "```jldoctest\n",
       "julia> convert(Int, 3.0)\n",
       "3\n",
       "\n",
       "julia> convert(Int, 3.5)\n",
       "ERROR: InexactError: Int64(3.5)\n",
       "Stacktrace:\n",
       "[...]\n",
       "```\n",
       "\n",
       "If `T` is a [`AbstractFloat`](@ref) type, then it will return the closest value to `x` representable by `T`.\n",
       "\n",
       "```jldoctest\n",
       "julia> x = 1/3\n",
       "0.3333333333333333\n",
       "\n",
       "julia> convert(Float32, x)\n",
       "0.33333334f0\n",
       "\n",
       "julia> convert(BigFloat, x)\n",
       "0.333333333333333314829616256247390992939472198486328125\n",
       "```\n",
       "\n",
       "If `T` is a collection type and `x` a collection, the result of `convert(T, x)` may alias all or part of `x`.\n",
       "\n",
       "```jldoctest\n",
       "julia> x = Int[1, 2, 3];\n",
       "\n",
       "julia> y = convert(Vector{Int}, x);\n",
       "\n",
       "julia> y === x\n",
       "true\n",
       "```\n",
       "\n",
       "See also: [`round`](@ref), [`trunc`](@ref), [`oftype`](@ref), [`reinterpret`](@ref).\n"
      ],
      "text/plain": [
       "\u001b[36m  convert(T, x)\u001b[39m\n",
       "\n",
       "  Convert \u001b[36mx\u001b[39m to a value of type \u001b[36mT\u001b[39m.\n",
       "\n",
       "  If \u001b[36mT\u001b[39m is an \u001b[36mInteger\u001b[39m type, an \u001b[36mInexactError\u001b[39m will be raised if \u001b[36mx\u001b[39m is not\n",
       "  representable by \u001b[36mT\u001b[39m, for example if \u001b[36mx\u001b[39m is not integer-valued, or is outside\n",
       "  the range supported by \u001b[36mT\u001b[39m.\n",
       "\n",
       "\u001b[1m  Examples\u001b[22m\n",
       "\u001b[1m  ≡≡≡≡≡≡≡≡≡≡\u001b[22m\n",
       "\n",
       "\u001b[36m  julia> convert(Int, 3.0)\u001b[39m\n",
       "\u001b[36m  3\u001b[39m\n",
       "\u001b[36m  \u001b[39m\n",
       "\u001b[36m  julia> convert(Int, 3.5)\u001b[39m\n",
       "\u001b[36m  ERROR: InexactError: Int64(3.5)\u001b[39m\n",
       "\u001b[36m  Stacktrace:\u001b[39m\n",
       "\u001b[36m  [...]\u001b[39m\n",
       "\n",
       "  If \u001b[36mT\u001b[39m is a \u001b[36mAbstractFloat\u001b[39m type, then it will return the closest value to \u001b[36mx\u001b[39m\n",
       "  representable by \u001b[36mT\u001b[39m.\n",
       "\n",
       "\u001b[36m  julia> x = 1/3\u001b[39m\n",
       "\u001b[36m  0.3333333333333333\u001b[39m\n",
       "\u001b[36m  \u001b[39m\n",
       "\u001b[36m  julia> convert(Float32, x)\u001b[39m\n",
       "\u001b[36m  0.33333334f0\u001b[39m\n",
       "\u001b[36m  \u001b[39m\n",
       "\u001b[36m  julia> convert(BigFloat, x)\u001b[39m\n",
       "\u001b[36m  0.333333333333333314829616256247390992939472198486328125\u001b[39m\n",
       "\n",
       "  If \u001b[36mT\u001b[39m is a collection type and \u001b[36mx\u001b[39m a collection, the result of \u001b[36mconvert(T, x)\u001b[39m\n",
       "  may alias all or part of \u001b[36mx\u001b[39m.\n",
       "\n",
       "\u001b[36m  julia> x = Int[1, 2, 3];\u001b[39m\n",
       "\u001b[36m  \u001b[39m\n",
       "\u001b[36m  julia> y = convert(Vector{Int}, x);\u001b[39m\n",
       "\u001b[36m  \u001b[39m\n",
       "\u001b[36m  julia> y === x\u001b[39m\n",
       "\u001b[36m  true\u001b[39m\n",
       "\n",
       "  See also: \u001b[36mround\u001b[39m, \u001b[36mtrunc\u001b[39m, \u001b[36moftype\u001b[39m, \u001b[36mreinterpret\u001b[39m."
      ]
     },
     "execution_count": 1,
     "metadata": {},
     "output_type": "execute_result"
    }
   ],
   "source": [
    "?convert"
   ]
  },
  {
   "cell_type": "markdown",
   "id": "42075597",
   "metadata": {},
   "source": [
    "1.2\n",
    "\n",
    "Assign 365 to a variable named days. Convert days to a float and assign it to variable days_float"
   ]
  },
  {
   "cell_type": "code",
   "execution_count": null,
   "id": "4109478c",
   "metadata": {},
   "outputs": [],
   "source": [
    "days=365\n",
    "days_float=convert(Float64, days)"
   ]
  },
  {
   "cell_type": "code",
   "execution_count": null,
   "id": "082626f2",
   "metadata": {},
   "outputs": [],
   "source": [
    "@assert days==365\n",
    "@assert days_float==365.0"
   ]
  },
  {
   "cell_type": "markdown",
   "id": "91d6aaee",
   "metadata": {},
   "source": [
    "1.3\n",
    "See what happens when you execute\n",
    "\n",
    "convert(Int64, \"1\")\n",
    "and\n",
    "\n",
    "parse(Int64, \"1\")"
   ]
  },
  {
   "cell_type": "code",
   "execution_count": null,
   "id": "8ca35fee",
   "metadata": {
    "scrolled": true
   },
   "outputs": [],
   "source": [
    "convert(Int64, \"1\")"
   ]
  },
  {
   "cell_type": "code",
   "execution_count": null,
   "id": "7816982d",
   "metadata": {},
   "outputs": [],
   "source": [
    "parse(Int64, \"1\")"
   ]
  },
  {
   "cell_type": "markdown",
   "id": "010e196b",
   "metadata": {},
   "source": [
    "# Strings\n",
    "\n",
    "2.1\n",
    "\n",
    "Create a string that says \"hi\" 1000 times, first with repeat and then with the exponentiation operator, \n",
    "\n",
    "which can call * under the hood. Assign it the variable hi below."
   ]
  },
  {
   "cell_type": "code",
   "execution_count": null,
   "id": "4d6353a8",
   "metadata": {},
   "outputs": [],
   "source": [
    "repeat(\"hi\",1000)"
   ]
  },
  {
   "cell_type": "code",
   "execution_count": null,
   "id": "3cac0caa",
   "metadata": {},
   "outputs": [],
   "source": [
    " Hi=\"hihihihihihihihihihihihihihihihihihihihihihihihihihihihihihihihihihihihi\n",
    "hihihihihihihihihihihihihihihihihihihihihihihihihihihihihihihihihihihihihihihihi\n",
    "hihihihihihihihihihihihihihihihihihihihihihihihi\"\n",
    " Hi=Hi*Hi*Hi*Hi*Hi*Hi*Hi*Hi*Hi*Hi"
   ]
  },
  {
   "cell_type": "code",
   "execution_count": null,
   "id": "e992b7c0",
   "metadata": {},
   "outputs": [],
   "source": [
    "@assert hi == Hi"
   ]
  },
  {
   "cell_type": "markdown",
   "id": "e53122e7",
   "metadata": {},
   "source": [
    "# 2.2\n",
    "Declare two variables\n",
    "\n",
    "a = 3\n",
    "b = 4\n",
    "and use them to create two strings:\n",
    "\n",
    "\"3 + 4\"\n",
    "\"7\"\n",
    "and store the results in c and d respectively"
   ]
  },
  {
   "cell_type": "code",
   "execution_count": null,
   "id": "85f413ef",
   "metadata": {},
   "outputs": [],
   "source": [
    "a=3;\n",
    "b=4;"
   ]
  },
  {
   "cell_type": "code",
   "execution_count": null,
   "id": "abd326ae",
   "metadata": {},
   "outputs": [],
   "source": [
    "c=string(a , string(+) ,  b)"
   ]
  },
  {
   "cell_type": "code",
   "execution_count": null,
   "id": "ce2fbd2a",
   "metadata": {},
   "outputs": [],
   "source": [
    "d=string(a + b)"
   ]
  },
  {
   "cell_type": "code",
   "execution_count": null,
   "id": "add65b34",
   "metadata": {},
   "outputs": [],
   "source": [
    "@assert c == \"3+4\"\n",
    "@assert d == \"7\""
   ]
  },
  {
   "cell_type": "markdown",
   "id": "bb234085",
   "metadata": {},
   "source": [
    "# Data stuctures\n",
    "3.1\n",
    "Create an array, a_ray, with the following code:\n",
    "\n",
    "a_ray = [1, 2, 3]\n",
    "Add the number 4 to the end of this array and then remove it."
   ]
  },
  {
   "cell_type": "code",
   "execution_count": null,
   "id": "2895c6e1",
   "metadata": {},
   "outputs": [],
   "source": [
    "a_ray=[1,2,3]\n",
    "push!(a_ray, 4)"
   ]
  },
  {
   "cell_type": "code",
   "execution_count": null,
   "id": "c3a673b2",
   "metadata": {},
   "outputs": [],
   "source": [
    "pop!(a_ray)"
   ]
  },
  {
   "cell_type": "code",
   "execution_count": null,
   "id": "700f4e62",
   "metadata": {},
   "outputs": [],
   "source": [
    "@assert a_ray == [1, 2, 3]"
   ]
  },
  {
   "cell_type": "markdown",
   "id": "7a9f91b3",
   "metadata": {},
   "source": [
    "# 3.2\n",
    "Try to add \"Emergency\" as key to myphonebook with the value string(911) with the following code\n",
    "\n",
    "myphonebook[\"Emergency\"] = 911\n",
    "Why doesn't this work?"
   ]
  },
  {
   "cell_type": "code",
   "execution_count": null,
   "id": "a8d5c16c",
   "metadata": {},
   "outputs": [],
   "source": [
    "myphonebook[\"Emergency\"] = 911"
   ]
  },
  {
   "cell_type": "code",
   "execution_count": null,
   "id": "41a2315d",
   "metadata": {},
   "outputs": [],
   "source": [
    "# Why doesn't this work?\n",
    "# Answer: Because there is no defined dictionary here, where this emergency contact could be added. \n",
    "# That is why it is showing this error. It should be like below:\n",
    "myphonebook=Dict(\"Emergency\"=>\"911\")"
   ]
  },
  {
   "cell_type": "markdown",
   "id": "555a28b9",
   "metadata": {},
   "source": [
    "# 3.3\n",
    "Create a new dictionary called flexible_phonebook that has Jenny's number stored as an integer and Ghostbusters' number stored as a string with the following code\n",
    "\n",
    "flexible_phonebook = Dict(\"Jenny\" => 8675309, \"Ghostbusters\" => \"555-2368\")"
   ]
  },
  {
   "cell_type": "code",
   "execution_count": null,
   "id": "bf97f63c",
   "metadata": {},
   "outputs": [],
   "source": [
    "flexible_phonebook = Dict(\"Jenny\" => 8675309, \"Ghostbusters\" => \"555-2368\")"
   ]
  },
  {
   "cell_type": "code",
   "execution_count": null,
   "id": "4406eea0",
   "metadata": {},
   "outputs": [],
   "source": [
    "@assert flexible_phonebook == Dict(\"Jenny\" => 8675309, \"Ghostbusters\" => \"555-2368\")"
   ]
  },
  {
   "cell_type": "markdown",
   "id": "e1cfb31c",
   "metadata": {},
   "source": [
    "# 3.4\n",
    "Add the key \"Emergency\" with the value 911 (an integer) to flexible_phonebook."
   ]
  },
  {
   "cell_type": "code",
   "execution_count": null,
   "id": "29fafc54",
   "metadata": {},
   "outputs": [],
   "source": [
    "flexible_phonebook[\"Emergency\"]=911\n",
    "flexible_phonebook"
   ]
  },
  {
   "cell_type": "code",
   "execution_count": null,
   "id": "da9fcf2c",
   "metadata": {},
   "outputs": [],
   "source": [
    "@assert haskey(flexible_phonebook, \"Emergency\")"
   ]
  },
  {
   "cell_type": "code",
   "execution_count": null,
   "id": "6e33705a",
   "metadata": {},
   "outputs": [],
   "source": [
    "@assert flexible_phonebook[\"Emergency\"] == 911"
   ]
  },
  {
   "cell_type": "markdown",
   "id": "b554d396",
   "metadata": {},
   "source": [
    "# 3.5\n",
    "Why can we add an integer as a value to flexible_phonebook but not myphonebook? \n",
    "How could we have initialized myphonebook so that it would accept integers as values? \n",
    "(hint: try using Julia's documentation for dictionaries)"
   ]
  },
  {
   "cell_type": "code",
   "execution_count": null,
   "id": "364883a1",
   "metadata": {},
   "outputs": [],
   "source": [
    "# Answer: Because In first case of myphonebook there is no defined dictionary using 'Dict', \n",
    "# where as in flexible_phonebook there is a proper defined dictionary. We can initialized myphonebook as below:\n",
    "myphonebook=Dict(\"Emergency\"=>911)"
   ]
  },
  {
   "cell_type": "markdown",
   "id": "25f372a4",
   "metadata": {},
   "source": [
    "# Loops\n",
    "4.1\n",
    "Loop over integers between 1 and 100 and print their squares."
   ]
  },
  {
   "cell_type": "code",
   "execution_count": null,
   "id": "ed7f3e35",
   "metadata": {},
   "outputs": [],
   "source": [
    "for n = 1:100\n",
    "    n=n^2\n",
    "    println(n)\n",
    "end"
   ]
  },
  {
   "cell_type": "markdown",
   "id": "baebb5db",
   "metadata": {},
   "source": [
    "# 4.2\n",
    "Add to the code above a bit to create a dictionary, squares that holds integers and their squares as key, \n",
    "value pairs such that squares[10] == 100"
   ]
  },
  {
   "cell_type": "code",
   "execution_count": 8,
   "id": "1cc66f42",
   "metadata": {
    "scrolled": false
   },
   "outputs": [
    {
     "name": "stdout",
     "output_type": "stream",
     "text": [
      "Dict{Any, Any}(5 => 25, 56 => 3136, 35 => 1225, 55 => 3025, 60 => 3600, 30 => 900, 32 => 1024, 6 => 36, 67 => 4489, 45 => 2025, 73 => 5329, 64 => 4096, 90 => 8100, 4 => 16, 13 => 169, 54 => 2916, 63 => 3969, 86 => 7396, 91 => 8281, 62 => 3844, 58 => 3364, 52 => 2704, 12 => 144, 28 => 784, 75 => 5625, 23 => 529, 92 => 8464, 41 => 1681, 43 => 1849, 11 => 121, 36 => 1296, 68 => 4624, 69 => 4761, 98 => 9604, 82 => 6724, 85 => 7225, 39 => 1521, 84 => 7056, 77 => 5929, 7 => 49, 25 => 625, 95 => 9025, 71 => 5041, 66 => 4356, 76 => 5776, 34 => 1156, 50 => 2500, 59 => 3481, 93 => 8649, 2 => 4, 10 => 100, 18 => 324, 26 => 676, 27 => 729, 42 => 1764, 87 => 7569, 100 => 10000, 79 => 6241, 16 => 256, 20 => 400, 81 => 6561, 19 => 361, 49 => 2401, 44 => 1936, 9 => 81, 31 => 961, 74 => 5476, 61 => 3721, 29 => 841, 94 => 8836, 46 => 2116, 57 => 3249, 70 => 4900, 21 => 441, 38 => 1444, 88 => 7744, 78 => 6084, 72 => 5184, 24 => 576, 8 => 64, 17 => 289, 37 => 1369, 1 => 1, 53 => 2809, 22 => 484, 47 => 2209, 83 => 6889, 99 => 9801, 89 => 7921, 14 => 196, 3 => 9, 80 => 6400, 96 => 9216, 51 => 2601, 33 => 1089, 40 => 1600, 48 => 2304, 15 => 225, 65 => 4225, 97 => 9409)"
     ]
    }
   ],
   "source": [
    "squares=Dict()\n",
    "for n = 1:100\n",
    "   squares[n]=n^2\n",
    "end\n",
    "print(squares)"
   ]
  },
  {
   "cell_type": "code",
   "execution_count": 9,
   "id": "0a598353",
   "metadata": {},
   "outputs": [],
   "source": [
    "@assert squares[10] == 100\n",
    "@assert squares[11] == 121"
   ]
  },
  {
   "cell_type": "markdown",
   "id": "51edb508",
   "metadata": {},
   "source": [
    "# 4.3\n",
    "Use an array comprehension to create an an array squares_arr that stores the squares for all integers between 1 and 100."
   ]
  },
  {
   "cell_type": "code",
   "execution_count": 52,
   "id": "0fc3d71d",
   "metadata": {},
   "outputs": [
    {
     "data": {
      "text/plain": [
       "100-element Vector{Int64}:\n",
       "     1\n",
       "     4\n",
       "     9\n",
       "    16\n",
       "    25\n",
       "    36\n",
       "    49\n",
       "    64\n",
       "    81\n",
       "   100\n",
       "   121\n",
       "   144\n",
       "   169\n",
       "     ⋮\n",
       "  7921\n",
       "  8100\n",
       "  8281\n",
       "  8464\n",
       "  8649\n",
       "  8836\n",
       "  9025\n",
       "  9216\n",
       "  9409\n",
       "  9604\n",
       "  9801\n",
       " 10000"
      ]
     },
     "execution_count": 52,
     "metadata": {},
     "output_type": "execute_result"
    }
   ],
   "source": [
    "squares_arr=[n^2 for n in 1:100]"
   ]
  },
  {
   "cell_type": "code",
   "execution_count": 53,
   "id": "ac420c1f",
   "metadata": {},
   "outputs": [],
   "source": [
    "@assert length(squares_arr) == 100\n",
    " @assert sum(squares_arr) == 338350"
   ]
  },
  {
   "cell_type": "markdown",
   "id": "20adfa98",
   "metadata": {},
   "source": [
    "# Conditionals\n",
    "5.1\n",
    "Write a conditional statement that prints a number if the number is even and the string \"odd\" if the number is odd."
   ]
  },
  {
   "cell_type": "code",
   "execution_count": null,
   "id": "27a327cd",
   "metadata": {},
   "outputs": [],
   "source": [
    "x=5\n",
    "if x%2==0\n",
    "    println(x)\n",
    "else\n",
    "    println(\"odd\")\n",
    "end"
   ]
  },
  {
   "cell_type": "markdown",
   "id": "7a770031",
   "metadata": {},
   "source": [
    "# 5.2\n",
    "Rewrite the code from 5.1 using a ternary operator."
   ]
  },
  {
   "cell_type": "code",
   "execution_count": null,
   "id": "41272380",
   "metadata": {},
   "outputs": [],
   "source": [
    "(x %2 ==0) ? x : \"odd\" "
   ]
  },
  {
   "cell_type": "markdown",
   "id": "7d1c8c0a",
   "metadata": {},
   "source": [
    "# Functions\n",
    "6.1\n",
    "Write a function add_one that adds 1 to its input."
   ]
  },
  {
   "cell_type": "code",
   "execution_count": null,
   "id": "16adaca6",
   "metadata": {},
   "outputs": [],
   "source": [
    "function add_one(num)\n",
    "   \n",
    "    num=num+1 \n",
    "    \n",
    "end"
   ]
  },
  {
   "cell_type": "code",
   "execution_count": null,
   "id": "c04d9746",
   "metadata": {},
   "outputs": [],
   "source": [
    "@assert add_one(1) == 2"
   ]
  },
  {
   "cell_type": "code",
   "execution_count": null,
   "id": "ab7cd651",
   "metadata": {},
   "outputs": [],
   "source": [
    "@assert add_one(11) == 12"
   ]
  },
  {
   "cell_type": "markdown",
   "id": "5704d5b3",
   "metadata": {},
   "source": [
    "# 6.2\n",
    "Use map or broadcast to increment every element of matrix A by 1 and assign it to a variable A1."
   ]
  },
  {
   "cell_type": "code",
   "execution_count": null,
   "id": "93f388db",
   "metadata": {},
   "outputs": [],
   "source": [
    "A=[1 2 3;4 5 6;7 8 9]\n",
    "\n",
    "A1=add_one.(A)"
   ]
  },
  {
   "cell_type": "code",
   "execution_count": null,
   "id": "ad27e054",
   "metadata": {},
   "outputs": [],
   "source": [
    "@assert A1 == [2 3 4; 5 6 7; 8 9 10]"
   ]
  },
  {
   "cell_type": "markdown",
   "id": "cf2b3fde",
   "metadata": {},
   "source": [
    "# 6.3\n",
    "Use the broadcast dot syntax to increment every element of matrix A1 by 1 and store it in variable A2"
   ]
  },
  {
   "cell_type": "code",
   "execution_count": null,
   "id": "55e12bba",
   "metadata": {},
   "outputs": [],
   "source": [
    "A2=add_one.(A1)"
   ]
  },
  {
   "cell_type": "code",
   "execution_count": null,
   "id": "3f4e719d",
   "metadata": {},
   "outputs": [],
   "source": [
    "@assert A2 == [3 4 5; 6 7 8; 9 10 11]"
   ]
  },
  {
   "cell_type": "markdown",
   "id": "86e488c4",
   "metadata": {},
   "source": [
    "# Packages\n",
    "7.1\n",
    "Load the Primes package (source code at https://github.com/JuliaMath/Primes.jl )."
   ]
  },
  {
   "cell_type": "code",
   "execution_count": 5,
   "id": "a83a223f",
   "metadata": {},
   "outputs": [
    {
     "name": "stderr",
     "output_type": "stream",
     "text": [
      "\u001b[32m\u001b[1m   Resolving\u001b[22m\u001b[39m package versions...\n",
      "\u001b[32m\u001b[1m  No Changes\u001b[22m\u001b[39m to `C:\\Users\\Rasel\\.julia\\environments\\v1.8\\Project.toml`\n",
      "\u001b[32m\u001b[1m  No Changes\u001b[22m\u001b[39m to `C:\\Users\\Rasel\\.julia\\environments\\v1.8\\Manifest.toml`\n"
     ]
    }
   ],
   "source": [
    "import Pkg\n",
    "using Pkg\n",
    "Pkg.add(\"Primes\")\n",
    "using Primes"
   ]
  },
  {
   "cell_type": "code",
   "execution_count": 6,
   "id": "d0056028",
   "metadata": {},
   "outputs": [],
   "source": [
    "@assert @isdefined Primes "
   ]
  },
  {
   "cell_type": "markdown",
   "id": "65949bfe",
   "metadata": {},
   "source": [
    "# 7.2\n",
    "Verify that you can now use the function primes to grab all prime numbers under 1,000,000 and store it in variable primes_list"
   ]
  },
  {
   "cell_type": "code",
   "execution_count": 8,
   "id": "6472dd7e",
   "metadata": {
    "scrolled": true
   },
   "outputs": [
    {
     "data": {
      "text/plain": [
       "78498-element Vector{Int64}:\n",
       "      2\n",
       "      3\n",
       "      5\n",
       "      7\n",
       "     11\n",
       "     13\n",
       "     17\n",
       "     19\n",
       "     23\n",
       "     29\n",
       "     31\n",
       "     37\n",
       "     41\n",
       "      ⋮\n",
       " 999809\n",
       " 999853\n",
       " 999863\n",
       " 999883\n",
       " 999907\n",
       " 999917\n",
       " 999931\n",
       " 999953\n",
       " 999959\n",
       " 999961\n",
       " 999979\n",
       " 999983"
      ]
     },
     "execution_count": 8,
     "metadata": {},
     "output_type": "execute_result"
    }
   ],
   "source": [
    "primes_list=primes(1000000)"
   ]
  },
  {
   "cell_type": "markdown",
   "id": "23d95471",
   "metadata": {},
   "source": [
    "# Plotting\n",
    "8.1\n",
    "Given\n",
    "\n",
    "x = -10:10\n",
    "\n",
    "plot y vs. x for y=x^2. You may want to change backends back again."
   ]
  },
  {
   "cell_type": "code",
   "execution_count": null,
   "id": "9b002f8a",
   "metadata": {},
   "outputs": [],
   "source": [
    "import Pkg\n",
    "Pkg.add(\"Plots\")\n",
    "Pkg.add(\"Colors\")"
   ]
  },
  {
   "cell_type": "code",
   "execution_count": null,
   "id": "989bb360",
   "metadata": {},
   "outputs": [],
   "source": [
    "using Plots\n",
    "using Colors\n",
    "gr()"
   ]
  },
  {
   "cell_type": "code",
   "execution_count": null,
   "id": "13d39c5b",
   "metadata": {},
   "outputs": [],
   "source": [
    "x=-10:10\n",
    "f(x)=x^2\n",
    "y=f.(x)\n",
    "plot(x,y, label=\"line\")\n",
    "scatter!(x, y, label=\"points\")"
   ]
  },
  {
   "cell_type": "markdown",
   "id": "1a0454d8",
   "metadata": {},
   "source": [
    "# 8.2\n",
    "Execute the following code"
   ]
  },
  {
   "cell_type": "code",
   "execution_count": null,
   "id": "53c91e83",
   "metadata": {},
   "outputs": [],
   "source": [
    "p1 = plot(x, x)\n",
    "p2 = plot(x, x.^2)\n",
    "p3 = plot(x, x.^3)\n",
    "p4 = plot(x, x.^4)\n",
    "plot(p1, p2, p3, p4, layout = (2, 2), legend = false)"
   ]
  },
  {
   "cell_type": "markdown",
   "id": "11ba97b0",
   "metadata": {},
   "source": [
    "# Create a (4*1) plot that uses p1, p2, p3, and p4 as subplots."
   ]
  },
  {
   "cell_type": "code",
   "execution_count": null,
   "id": "82576734",
   "metadata": {},
   "outputs": [],
   "source": [
    "plot(p1, p2, p3, p4, layout = (4, 1), legend = false)"
   ]
  },
  {
   "cell_type": "markdown",
   "id": "b485fa4c",
   "metadata": {},
   "source": [
    "# Extra Exercise\n",
    "Write a function that will output a Fibonacci Sequence with a length of N\n",
    "\n",
    "Function name: fibonacciN\n",
    "\n",
    "Input: N::Int32\n",
    "\n",
    "Output: a N-element vector that stores a Fibonacci Sequence\n",
    "\n",
    "Example: fibonacciN(50) => [0, 1, …., 7778742049]\n",
    "\n",
    "In the Fibonacci Sequence, the first two numbers are 0 and 1 and every number thereafter\n",
    "\n",
    "is the sum of the previous two numbers in the sequence For this question, \n",
    "\n",
    "consider 0 to be the 1st Fibonacci Number, not the 0th (i.e. do not zero-index)"
   ]
  },
  {
   "cell_type": "code",
   "execution_count": 9,
   "id": "60ab425f",
   "metadata": {},
   "outputs": [
    {
     "data": {
      "text/plain": [
       "fibonacciN (generic function with 2 methods)"
      ]
     },
     "execution_count": 9,
     "metadata": {},
     "output_type": "execute_result"
    }
   ],
   "source": [
    "function fibonacciN(N::Int)\n",
    "    F=zeros(N)\n",
    "    F[1]=0; F[2]=1\n",
    "   for i=3:N\n",
    "    F[i]=F[i-1]+F[i-2]\n",
    "    end\n",
    "    F\n",
    "end"
   ]
  },
  {
   "cell_type": "code",
   "execution_count": 10,
   "id": "d71b5673",
   "metadata": {},
   "outputs": [
    {
     "data": {
      "text/plain": [
       "50-element Vector{Float64}:\n",
       "   0.0\n",
       "   1.0\n",
       "   1.0\n",
       "   2.0\n",
       "   3.0\n",
       "   5.0\n",
       "   8.0\n",
       "  13.0\n",
       "  21.0\n",
       "  34.0\n",
       "  55.0\n",
       "  89.0\n",
       " 144.0\n",
       "   ⋮\n",
       "   3.9088169e7\n",
       "   6.3245986e7\n",
       "   1.02334155e8\n",
       "   1.65580141e8\n",
       "   2.67914296e8\n",
       "   4.33494437e8\n",
       "   7.01408733e8\n",
       "   1.13490317e9\n",
       "   1.836311903e9\n",
       "   2.971215073e9\n",
       "   4.807526976e9\n",
       "   7.778742049e9"
      ]
     },
     "execution_count": 10,
     "metadata": {},
     "output_type": "execute_result"
    }
   ],
   "source": [
    "fibonacciN(50)"
   ]
  },
  {
   "cell_type": "code",
   "execution_count": null,
   "id": "f70ee447",
   "metadata": {},
   "outputs": [],
   "source": []
  },
  {
   "cell_type": "code",
   "execution_count": null,
   "id": "f92a2785",
   "metadata": {},
   "outputs": [],
   "source": []
  }
 ],
 "metadata": {
  "kernelspec": {
   "display_name": "Julia 1.8.5",
   "language": "julia",
   "name": "julia-1.8"
  },
  "language_info": {
   "file_extension": ".jl",
   "mimetype": "application/julia",
   "name": "julia",
   "version": "1.8.5"
  }
 },
 "nbformat": 4,
 "nbformat_minor": 5
}
