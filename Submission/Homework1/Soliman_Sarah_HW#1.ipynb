{
 "cells": [
  {
   "cell_type": "markdown",
   "id": "217bf333",
   "metadata": {},
   "source": [
    "<h1>HW1</h1>\n",
    "<ol>\n",
    "    <li>Questions from <a href=\"https://juliaacademy.com/\">Juliaacademy</a></li>\n",
    "    <li>One extra question</li>\n",
    "</ol>"
   ]
  },
  {
   "cell_type": "markdown",
   "id": "5c69a5ff",
   "metadata": {},
   "source": [
    "### Getting started\n",
    "\n",
    "#### 1.1 \n",
    "Look up docs for the `convert` function."
   ]
  },
  {
   "cell_type": "code",
   "execution_count": null,
   "id": "b5e5dc82",
   "metadata": {},
   "outputs": [],
   "source": [
    "#the convert fuction converts data types using the following syntax 'convert(data_type,variable)'"
   ]
  },
  {
   "cell_type": "markdown",
   "id": "7b326994",
   "metadata": {},
   "source": [
    "#### 1.2 \n",
    "Assign `365` to a variable named `days`. Convert `days` to a float and assign it to variable `days_float`"
   ]
  },
  {
   "cell_type": "code",
   "execution_count": null,
   "id": "824698fa",
   "metadata": {},
   "outputs": [],
   "source": [
    "days = 365\n",
    "days_float = convert(Float16,days)"
   ]
  },
  {
   "cell_type": "code",
   "execution_count": null,
   "id": "6ba05b89",
   "metadata": {},
   "outputs": [],
   "source": [
    "@assert days == 365\n",
    "@assert days_float == 365.0"
   ]
  },
  {
   "cell_type": "markdown",
   "id": "cc7699e3",
   "metadata": {},
   "source": [
    "#### 1.3 \n",
    "See what happens when you execute\n",
    "\n",
    "```julia\n",
    "convert(Int64, \"1\")\n",
    "```\n",
    "and\n",
    "\n",
    "```julia\n",
    "parse(Int64, \"1\")\n",
    "```"
   ]
  },
  {
   "cell_type": "code",
   "execution_count": null,
   "id": "c188f78c",
   "metadata": {},
   "outputs": [],
   "source": [
    "convert(Int64,\"1\")\n",
    "parse(Int64,\"1\")"
   ]
  },
  {
   "cell_type": "markdown",
   "id": "d4923a5f",
   "metadata": {},
   "source": [
    "### Strings\n",
    "\n",
    "#### 2.1 \n",
    "Create a string that says \"hi\" 1000 times, first with `repeat` and then with the exponentiation operator, which can call `*` under the hood. Assign it the variable `hi` below."
   ]
  },
  {
   "cell_type": "code",
   "execution_count": null,
   "id": "16aec7c2",
   "metadata": {},
   "outputs": [],
   "source": [
    "repeat(\"hi\",1000)\n",
    "hi = \"hi\"^1000"
   ]
  },
  {
   "cell_type": "code",
   "execution_count": null,
   "id": "4a6cb805",
   "metadata": {},
   "outputs": [],
   "source": [
    "@assert hi == \"hihihihihihihihihihihihihihihihihihihihihihihihihihihihihihihihihihihihihihihihihihihihihihihihihihihihihihihihihihihihihihihihihihihihihihihihihihihihihihihihihihihihihihihihihihihihihihihihihihihihihihihihihihihihihihihihihihihihihihihihihihihihihihihihihihihihihihihihihihihihihihihihihihihihihihihihihihihihihihihihihihihihihihihihihihihihihihihihihihihihihihihihihihihihihihihihihihihihihihihihihihihihihihihihihihihihihihihihihihihihihihihihihihihihihihihihihihihihihihihihihihihihihihihihihihihihihihihihihihihihihihihihihihihihihihihihihihihihihihihihihihihihihihihihihihihihihihihihihihihihihihihihihihihihihihihihihihihihihihihihihihihihihihihihihihihihihihihihihihihihihihihihihihihihihihihihihihihihihihihihihihihihihihihihihihihihihihihihihihihihihihihihihihihihihihihihihihihihihihihihihihihihihihihihihihihihihihihihihihihihihihihihihihihihihihihihihihihihihihihihihihihihihihihihihihihihihihihihihihihihihihihihihihihihihihihihihihihihihihihihihihihihihihihihihihihihihihihihihihihihihihihihihihihihihihihihihihihihihihihihihihihihihihihihihihihihihihihihihihihihihihihihihihihihihihihihihihihihihihihihihihihihihihihihihihihihihihihihihihihihihihihihihihihihihihihihihihihihihihihihihihihihihihihihihihihihihihihihihihihihihihihihihihihihihihihihihihihihihihihihihihihihihihihihihihihihihihihihihihihihihihihihihihihihihihihihihihihihihihihihihihihihihihihihihihihihihihihihihihihihihihihihihihihihihihihihihihihihihihihihihihihihihihihihihihihihihihihihihihihihihihihihihihihihihihihihihihihihihihihihihihihihihihihihihihihihihihihihihihihihihihihihihihihihihihihihihihihihihihihihihihihihihihihihihihihihihihihihihihihihihihihihihihihihihihihihihihihihihihihihihihihihihihihihihihihihihihihihihihihihihihihihihihihihihihihihihihihihihihihihihihihihihihihihihihihihihihihihihihihihihihihihihihihihihihihihihihihihihihihihihihihihihihihihihihihihihihihihihihihihihihihihihihihihihihihihihihihihihihihihihihihihihihihihihihihihihihihihihihihihihihihihihihihihihihihihihihihihihihihihi\""
   ]
  },
  {
   "cell_type": "markdown",
   "id": "5aca2c46",
   "metadata": {},
   "source": [
    "#### 2.2 \n",
    "Declare two variables\n",
    "\n",
    "```julia\n",
    "a = 3\n",
    "b = 4\n",
    "```\n",
    "and use them to create two strings:\n",
    "```julia\n",
    "\"3 + 4\"\n",
    "\"7\" \n",
    "```\n",
    "and store the results in `c` and `d` respectively"
   ]
  },
  {
   "cell_type": "code",
   "execution_count": null,
   "id": "d9512549",
   "metadata": {},
   "outputs": [],
   "source": [
    "a = 3\n",
    "b = 4\n",
    "c = \"$(a) + $(b)\"\n",
    "d = \"$(a+b)\""
   ]
  },
  {
   "cell_type": "code",
   "execution_count": null,
   "id": "8311c6ac",
   "metadata": {},
   "outputs": [],
   "source": [
    "@assert c == \"3 + 4\"\n",
    "@assert d == \"7\""
   ]
  },
  {
   "cell_type": "markdown",
   "id": "7405e416",
   "metadata": {},
   "source": [
    "### Data stuctures\n",
    "\n",
    "#### 3.1 \n",
    "Create an array, `a_ray`, with the following code:\n",
    "\n",
    "```julia\n",
    "a_ray = [1, 2, 3]\n",
    "```\n",
    "\n",
    "Add the number `4` to the end of this array and then remove it."
   ]
  },
  {
   "cell_type": "code",
   "execution_count": null,
   "id": "2edf9bdf",
   "metadata": {},
   "outputs": [],
   "source": [
    "a_ray = [1, 2, 3]\n",
    "typeof(a_ray)\n",
    "push!(a_ray,4)\n",
    "pop!(a_ray)"
   ]
  },
  {
   "cell_type": "code",
   "execution_count": null,
   "id": "73ef7e69",
   "metadata": {},
   "outputs": [],
   "source": [
    "@assert a_ray == [1, 2, 3]\n",
    "a_ray"
   ]
  },
  {
   "cell_type": "markdown",
   "id": "bc93ceaf",
   "metadata": {},
   "source": [
    "#### 3.2 \n",
    "Define 'myphonebook' using the follwing code\n",
    "```julia\n",
    "myphonebook = Dict(\"Jenny\" => \"867-5309\", \"Ghostbusters\" => \"555-2368\")\n",
    "```\n",
    "Try to add \"Emergency\" as key to `myphonebook` with the value `string(911)` with the following code\n",
    "```julia\n",
    "myphonebook[\"Emergency\"] = 911\n",
    "```\n",
    "\n",
    "Why doesn't this work?"
   ]
  },
  {
   "cell_type": "code",
   "execution_count": null,
   "id": "607bab1a",
   "metadata": {},
   "outputs": [],
   "source": [
    "myphonebook = Dict(\"Jenny\" => \"865-5309\",\"Ghostbuster\"=>\"555-2368\")\n",
    "myphonebook[\"Emergency\"] = 911 #this doesn't work because 911 is assigned as an integer rather than a string, and the original dictionary initialization is a string, string format"
   ]
  },
  {
   "cell_type": "markdown",
   "id": "6feb1165",
   "metadata": {},
   "source": [
    "#### 3.3 \n",
    "Create a new dictionary called `flexible_phonebook` that has Jenny's number stored as an integer and Ghostbusters' number stored as a string with the following code\n",
    "\n",
    "```julia\n",
    "flexible_phonebook = Dict(\"Jenny\" => 8675309, \"Ghostbusters\" => \"555-2368\")\n",
    "```"
   ]
  },
  {
   "cell_type": "code",
   "execution_count": null,
   "id": "59eedf17",
   "metadata": {},
   "outputs": [],
   "source": [
    "flexible_phonebook = Dict(\"Jenny\"=> 8675309, \"Ghostbusters\" => \"555-2368\")"
   ]
  },
  {
   "cell_type": "code",
   "execution_count": null,
   "id": "cd682832",
   "metadata": {},
   "outputs": [],
   "source": [
    "@assert flexible_phonebook == Dict(\"Jenny\" => 8675309, \"Ghostbusters\" => \"555-2368\")"
   ]
  },
  {
   "cell_type": "markdown",
   "id": "0d02b63f",
   "metadata": {},
   "source": [
    "#### 3.4 \n",
    "Add the key \"Emergency\" with the value `911` (an integer) to `flexible_phonebook`."
   ]
  },
  {
   "cell_type": "code",
   "execution_count": null,
   "id": "c4d5de19",
   "metadata": {},
   "outputs": [],
   "source": [
    "flexible_phonebook[\"Emergency\"] = 911\n",
    "flexible_phonebook"
   ]
  },
  {
   "cell_type": "code",
   "execution_count": null,
   "id": "24c73b74",
   "metadata": {},
   "outputs": [],
   "source": [
    "@assert haskey(flexible_phonebook, \"Emergency\")"
   ]
  },
  {
   "cell_type": "code",
   "execution_count": null,
   "id": "31a244ed",
   "metadata": {},
   "outputs": [],
   "source": [
    "@assert flexible_phonebook[\"Emergency\"] == 911"
   ]
  },
  {
   "cell_type": "markdown",
   "id": "00489689",
   "metadata": {},
   "source": [
    "#### 3.5 \n",
    "Why can we add an integer as a value to `flexible_phonebook` but not `myphonebook`? How could we have initialized `myphonebook` so that it would accept integers as values? (hint: try using [Julia's documentation for dictionaries](https://docs.julialang.org/en/v1/base/collections/#Dictionaries))"
   ]
  },
  {
   "cell_type": "code",
   "execution_count": null,
   "id": "f4360494",
   "metadata": {},
   "outputs": [],
   "source": [
    "#myphone book was originally was initialized with strings only so it was assigned as a string dictionary, whereas flexible_phonebook\n",
    "#was initialized as a string and an integer so Julia declared it with any datatype as an option. myphonebook could have been\n",
    "#initialized to accept integers as well by specifying during initialization as follows: Dict{String,Int32}(\"...\"=>\"..\",\"...\"=>\"...\")"
   ]
  },
  {
   "cell_type": "markdown",
   "id": "bfba5bbc",
   "metadata": {},
   "source": [
    "### Loops\n",
    "\n",
    "#### 4.1 \n",
    "Loop over integers between 1 and 100 and print their squares."
   ]
  },
  {
   "cell_type": "code",
   "execution_count": null,
   "id": "170211f8",
   "metadata": {},
   "outputs": [],
   "source": [
    "for x in 1:100\n",
    "    println(x^2)\n",
    "end"
   ]
  },
  {
   "cell_type": "markdown",
   "id": "869059a1",
   "metadata": {},
   "source": [
    "#### 4.2 \n",
    "Add to the code above a bit to create a dictionary, `squares` that holds integers and their squares as key, value pairs such that\n",
    "\n",
    "```julia\n",
    "squares[10] == 100\n",
    "```"
   ]
  },
  {
   "cell_type": "code",
   "execution_count": null,
   "id": "4e9c1bd2",
   "metadata": {
    "scrolled": true
   },
   "outputs": [],
   "source": [
    "squares = Dict()\n",
    "x = 1\n",
    "while x<101\n",
    "    squares[x]=x^2\n",
    "    x+=1\n",
    "end\n",
    "println(squares)"
   ]
  },
  {
   "cell_type": "code",
   "execution_count": null,
   "id": "956b829f",
   "metadata": {},
   "outputs": [],
   "source": [
    "@assert squares[10] == 100\n",
    "@assert squares[11] == 121"
   ]
  },
  {
   "cell_type": "markdown",
   "id": "089cc31d",
   "metadata": {},
   "source": [
    "#### 4.3 \n",
    "Use an array comprehension to create an an array `squares_arr` that stores the squares for all integers between 1 and 100."
   ]
  },
  {
   "cell_type": "code",
   "execution_count": null,
   "id": "6f01008a",
   "metadata": {},
   "outputs": [],
   "source": [
    "squares_arr = []\n",
    "for i in 1:100\n",
    "    push!(squares_arr,i^2)\n",
    "end\n",
    "println(squares_arr)"
   ]
  },
  {
   "cell_type": "code",
   "execution_count": null,
   "id": "9d769d9f",
   "metadata": {},
   "outputs": [],
   "source": [
    "@assert length(squares_arr) == 100\n",
    "@assert sum(squares_arr) == 338350"
   ]
  },
  {
   "cell_type": "markdown",
   "id": "6c5401ed",
   "metadata": {},
   "source": [
    "### Conditionals\n",
    "\n",
    "#### 5.1 \n",
    "Write a conditional statement that prints a number if the number is even and the string \"odd\" if the number is odd."
   ]
  },
  {
   "cell_type": "code",
   "execution_count": null,
   "id": "d53d74d2",
   "metadata": {},
   "outputs": [],
   "source": [
    "x = 242\n",
    "if x%2 == 0\n",
    "    println(x)\n",
    "else\n",
    "    println(\"odd\")\n",
    "end"
   ]
  },
  {
   "cell_type": "markdown",
   "id": "afabd103",
   "metadata": {},
   "source": [
    "#### 5.2 \n",
    "Rewrite the code from 5.1 using a ternary operator."
   ]
  },
  {
   "cell_type": "code",
   "execution_count": null,
   "id": "122453fb",
   "metadata": {},
   "outputs": [],
   "source": [
    "x = 17\n",
    "x%2==0 ? println(x) : println(\"odd\")\n"
   ]
  },
  {
   "cell_type": "markdown",
   "id": "23a918c1",
   "metadata": {},
   "source": [
    "### Functions\n",
    "\n",
    "#### 6.1 \n",
    "Write a function `add_one` that adds 1 to its input."
   ]
  },
  {
   "cell_type": "code",
   "execution_count": null,
   "id": "491eb390",
   "metadata": {},
   "outputs": [],
   "source": [
    "add_one(x) = x+1"
   ]
  },
  {
   "cell_type": "code",
   "execution_count": null,
   "id": "b8e491f3",
   "metadata": {},
   "outputs": [],
   "source": [
    "@assert add_one(1) == 2"
   ]
  },
  {
   "cell_type": "code",
   "execution_count": null,
   "id": "b6d701ab",
   "metadata": {},
   "outputs": [],
   "source": [
    "@assert add_one(11) == 12"
   ]
  },
  {
   "cell_type": "markdown",
   "id": "c2026af8",
   "metadata": {},
   "source": [
    "#### 6.2 \n",
    "Use `map` or `broadcast` to increment every element of matrix `A` by `1` and assign it to a variable `A1`."
   ]
  },
  {
   "cell_type": "code",
   "execution_count": null,
   "id": "ace2f543",
   "metadata": {},
   "outputs": [],
   "source": [
    "f(x)=x+1\n",
    "map(f,[1 2 3; 4 5 6; 7 8 9])"
   ]
  },
  {
   "cell_type": "code",
   "execution_count": null,
   "id": "85702137",
   "metadata": {},
   "outputs": [],
   "source": [
    "@assert A1 == [2 3 4; 5 6 7; 8 9 10]"
   ]
  },
  {
   "cell_type": "markdown",
   "id": "2c80577c",
   "metadata": {},
   "source": [
    "#### 6.3 \n",
    "Use the broadcast dot syntax to increment every element of matrix `A1` by `1` and store it in variable `A2`"
   ]
  },
  {
   "cell_type": "code",
   "execution_count": null,
   "id": "172aca08",
   "metadata": {},
   "outputs": [],
   "source": [
    "A2 = f.(A1)"
   ]
  },
  {
   "cell_type": "code",
   "execution_count": null,
   "id": "8ac675c6",
   "metadata": {},
   "outputs": [],
   "source": [
    "@assert A2 == [3 4 5; 6 7 8; 9 10 11]"
   ]
  },
  {
   "cell_type": "markdown",
   "id": "6e4b808c",
   "metadata": {},
   "source": [
    "### Packages\n",
    "\n",
    "#### 7.1 \n",
    "Load the Primes package (source code at https://github.com/JuliaMath/Primes.jl )."
   ]
  },
  {
   "cell_type": "code",
   "execution_count": null,
   "id": "4ad72449",
   "metadata": {},
   "outputs": [],
   "source": [
    "using Pkg\n",
    "Pkg.add(\"Primes\")\n",
    "using Primes"
   ]
  },
  {
   "cell_type": "code",
   "execution_count": null,
   "id": "54aa3824",
   "metadata": {},
   "outputs": [],
   "source": [
    "@assert @isdefined Primes"
   ]
  },
  {
   "cell_type": "markdown",
   "id": "639d7f7f",
   "metadata": {},
   "source": [
    "#### 7.2 \n",
    "Verify that you can now use the function `primes` to grab all prime numbers under 1,000,000 and store it in variable `primes_list`"
   ]
  },
  {
   "cell_type": "code",
   "execution_count": null,
   "id": "e3a299fd",
   "metadata": {},
   "outputs": [],
   "source": [
    "primes_list = primes(1000000)"
   ]
  },
  {
   "cell_type": "code",
   "execution_count": null,
   "id": "adf92dfc",
   "metadata": {},
   "outputs": [],
   "source": [
    "@assert primes_list == primes(1000000)"
   ]
  },
  {
   "cell_type": "markdown",
   "id": "f50d7b59",
   "metadata": {},
   "source": [
    "### Plotting\n",
    "\n",
    "#### 8.1 \n",
    "Given\n",
    "```julia\n",
    "x = -10:10\n",
    "```\n",
    "plot y vs. x for $y = x^2$.  You may want to change backends back again."
   ]
  },
  {
   "cell_type": "code",
   "execution_count": null,
   "id": "9dd30c77",
   "metadata": {},
   "outputs": [],
   "source": [
    "using Pkg\n",
    "Pkg.add(\"Plots\")\n",
    "using Plots\n",
    "gr()"
   ]
  },
  {
   "cell_type": "code",
   "execution_count": null,
   "id": "25ed69e9",
   "metadata": {},
   "outputs": [],
   "source": [
    "x = -10:10\n",
    "y = x.^2\n",
    "plot(x,y, label = \"line\")"
   ]
  },
  {
   "cell_type": "markdown",
   "id": "d8d4902b",
   "metadata": {},
   "source": [
    "#### 8.2 \n",
    "Execute the following code"
   ]
  },
  {
   "cell_type": "code",
   "execution_count": null,
   "id": "5bcdf608",
   "metadata": {},
   "outputs": [],
   "source": [
    "p1 = plot(x, x)\n",
    "p2 = plot(x, x.^2)\n",
    "p3 = plot(x, x.^3)\n",
    "p4 = plot(x, x.^4)\n",
    "plot(p1, p2, p3, p4, layout = (2, 2), legend = false)"
   ]
  },
  {
   "cell_type": "markdown",
   "id": "29acabb5",
   "metadata": {},
   "source": [
    "and then create a $4x1$ plot that uses `p1`, `p2`, `p3`, and `p4` as subplots."
   ]
  },
  {
   "cell_type": "code",
   "execution_count": null,
   "id": "74e165f7",
   "metadata": {},
   "outputs": [],
   "source": [
    "plot(p1, p2, p3, p4, layout = (4,1), legend = false)"
   ]
  },
  {
   "cell_type": "markdown",
   "id": "78ef063b",
   "metadata": {},
   "source": [
    "### Extra Exercise\n",
    "Write a function that will output a Fibonacci Sequence with a length of N\n",
    "```\n",
    "Function name: fibonacciN\n",
    "```\n",
    "```\n",
    "Input: N::Int32\n",
    "```\n",
    "```\n",
    "Output: a N-element vector that stores a Fibonacci Sequence\n",
    "```\n",
    "```\n",
    "Example: fibonacciN(50) => [0, 1, …., 7778742049]\n",
    "```\n",
    "\n",
    "In the Fibonacci Sequence, the first two numbers are 0 and 1 and every number thereafter is the sum of the previous two numbers in the sequence\n",
    "For this question, consider 0 to be the 1st Fibonacci Number, not the 0th (i.e. do not zero-index)\n"
   ]
  },
  {
   "cell_type": "code",
   "execution_count": 45,
   "id": "a8aa4b28",
   "metadata": {},
   "outputs": [
    {
     "data": {
      "text/plain": [
       "fibonacciN (generic function with 1 method)"
      ]
     },
     "execution_count": 45,
     "metadata": {},
     "output_type": "execute_result"
    }
   ],
   "source": [
    "fib = [Int32(0),Int32(1)]\n",
    "function fibonacciN(N::Int32)\n",
    "    fib = [Int32(0),Int32(1)]\n",
    "    if N <= 1\n",
    "        println(\"[0]\")\n",
    "    elseif N ==2\n",
    "        println(fib)\n",
    "    else\n",
    "        for i = 3:N\n",
    "            push!(fib, ((fib[i-1]+fib[i-2])))\n",
    "        end\n",
    "        println(fib)\n",
    "    end\n",
    "end"
   ]
  },
  {
   "cell_type": "code",
   "execution_count": 48,
   "id": "964f181c",
   "metadata": {},
   "outputs": [
    {
     "name": "stdout",
     "output_type": "stream",
     "text": [
      "Int32[0, 1, 1, 2, 3, 5, 8, 13, 21, 34, 55, 89, 144, 233, 377, 610, 987, 1597, 2584, 4181, 6765, 10946, 17711, 28657, 46368, 75025, 121393, 196418, 317811, 514229, 832040, 1346269, 2178309, 3524578, 5702887, 9227465, 14930352, 24157817, 39088169, 63245986, 102334155, 165580141, 267914296, 433494437, 701408733, 1134903170]\n"
     ]
    }
   ],
   "source": [
    "fibonacciN(Int32(46))"
   ]
  }
 ],
 "metadata": {
  "kernelspec": {
   "display_name": "Julia 1.8.5",
   "language": "julia",
   "name": "julia-1.8"
  },
  "language_info": {
   "file_extension": ".jl",
   "mimetype": "application/julia",
   "name": "julia",
   "version": "1.8.5"
  }
 },
 "nbformat": 4,
 "nbformat_minor": 5
}
